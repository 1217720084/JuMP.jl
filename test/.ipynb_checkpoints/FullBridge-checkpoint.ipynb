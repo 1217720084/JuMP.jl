{
 "cells": [
  {
   "cell_type": "code",
   "execution_count": 1,
   "metadata": {},
   "outputs": [
    {
     "name": "stderr",
     "output_type": "stream",
     "text": [
      "\u001b[1m\u001b[36mINFO: \u001b[39m\u001b[22m\u001b[36mRecompiling stale cache file /home/blegat/.julia/lib/v0.6/MathOptInterface.ji for module MathOptInterface.\n",
      "\u001b[39m"
     ]
    }
   ],
   "source": [
    "using MathOptInterface\n",
    "const MOI = MathOptInterface\n",
    "const MOIU = MOI.Utilities\n",
    "@MOIU.model LPModel () (EqualTo, GreaterThan, LessThan) () () (SingleVariable,) (ScalarAffineFunction,) () ()"
   ]
  },
  {
   "cell_type": "code",
   "execution_count": 2,
   "metadata": {},
   "outputs": [
    {
     "name": "stderr",
     "output_type": "stream",
     "text": [
      "\u001b[1m\u001b[36mINFO: \u001b[39m\u001b[22m\u001b[36mRecompiling stale cache file /home/blegat/.julia/lib/v0.6/JuMP.ji for module JuMP.\n",
      "\u001b[39m"
     ]
    }
   ],
   "source": [
    "using JuMP\n",
    "using Base.Test"
   ]
  },
  {
   "cell_type": "code",
   "execution_count": 3,
   "metadata": {},
   "outputs": [
    {
     "data": {
      "text/plain": [
       "\u001b[1m\u001b[32mTest Passed\u001b[39m\u001b[22m\n",
       "      Thrown: MethodError"
      ]
     },
     "execution_count": 3,
     "metadata": {},
     "output_type": "execute_result"
    }
   ],
   "source": [
    "optimizer = MOIU.MockOptimizer(LPModel{Float64}());\n",
    "m = Model(backend=optimizer, mode=JuMP.Direct)\n",
    "@variable m x\n",
    "@test_throws MethodError @constraint m 0 <= x + 1 <= 1"
   ]
  },
  {
   "cell_type": "code",
   "execution_count": 4,
   "metadata": {},
   "outputs": [
    {
     "data": {
      "text/plain": [
       "JuMP.ConstraintRef{JuMP.Model,MathOptInterface.ConstraintIndex{MathOptInterface.ScalarAffineFunction{Float64},MathOptInterface.Interval{Float64}}}(A JuMP Model, MathOptInterface.ConstraintIndex{MathOptInterface.ScalarAffineFunction{Float64},MathOptInterface.Interval{Float64}}(1))"
      ]
     },
     "execution_count": 4,
     "metadata": {},
     "output_type": "execute_result"
    }
   ],
   "source": [
    "optimizer = MOIU.MockOptimizer(LPModel{Float64}());\n",
    "m = Model(optimizer=optimizer)\n",
    "@variable m x\n",
    "@constraint m 0 <= x+1 <= 1"
   ]
  },
  {
   "cell_type": "code",
   "execution_count": 6,
   "metadata": {},
   "outputs": [
    {
     "ename": "LoadError",
     "evalue": "\u001b[91mKeyError: key (MathOptInterface.SingleVariable, MathOptInterface.Interval{Float64}) not found\u001b[39m",
     "output_type": "error",
     "traceback": [
      "\u001b[91mKeyError: key (MathOptInterface.SingleVariable, MathOptInterface.Interval{Float64}) not found\u001b[39m",
      "",
      "Stacktrace:",
      " [1] \u001b[1mgetindex\u001b[22m\u001b[22m at \u001b[1m./dict.jl:474\u001b[22m\u001b[22m [inlined]",
      " [2] \u001b[1mbridgetype\u001b[22m\u001b[22m\u001b[1m(\u001b[22m\u001b[22m::MathOptInterface.Bridges.LazyBridgeOptimizer{MathOptInterface.Utilities.CachingOptimizer{MathOptInterface.Utilities.UniversalFallback{JuMP.JuMPMOIModel{Float64}}},MathOptInterface.Bridges.AllBridgedConstraints{Float64}}, ::Type{MathOptInterface.SingleVariable}, ::Type{MathOptInterface.Interval{Float64}}\u001b[1m)\u001b[22m\u001b[22m at \u001b[1m/home/blegat/.julia/v0.6/MathOptInterface/src/Bridges/lazybridgeoptimizer.jl:108\u001b[22m\u001b[22m",
      " [3] \u001b[1maddconstraint!\u001b[22m\u001b[22m\u001b[1m(\u001b[22m\u001b[22m::MathOptInterface.Bridges.LazyBridgeOptimizer{MathOptInterface.Utilities.CachingOptimizer{MathOptInterface.Utilities.UniversalFallback{JuMP.JuMPMOIModel{Float64}}},MathOptInterface.Bridges.AllBridgedConstraints{Float64}}, ::MathOptInterface.SingleVariable, ::MathOptInterface.Interval{Float64}\u001b[1m)\u001b[22m\u001b[22m at \u001b[1m/home/blegat/.julia/v0.6/MathOptInterface/src/Bridges/bridgeoptimizer.jl:206\u001b[22m\u001b[22m",
      " [4] \u001b[1maddconstraint\u001b[22m\u001b[22m\u001b[1m(\u001b[22m\u001b[22m::JuMP.Model, ::JuMP.SingleVariableConstraint{JuMP.VariableRef,MathOptInterface.Interval{Float64}}, ::String\u001b[1m)\u001b[22m\u001b[22m at \u001b[1m/home/blegat/.julia/v0.6/JuMP/src/JuMP.jl:281\u001b[22m\u001b[22m",
      " [5] \u001b[1mexecute_request\u001b[22m\u001b[22m\u001b[1m(\u001b[22m\u001b[22m::ZMQ.Socket, ::IJulia.Msg\u001b[1m)\u001b[22m\u001b[22m at \u001b[1m/home/blegat/.julia/v0.6/IJulia/src/execute_request.jl:158\u001b[22m\u001b[22m",
      " [6] \u001b[1m(::Compat.#inner#18{Array{Any,1},IJulia.#execute_request,Tuple{ZMQ.Socket,IJulia.Msg}})\u001b[22m\u001b[22m\u001b[1m(\u001b[22m\u001b[22m\u001b[1m)\u001b[22m\u001b[22m at \u001b[1m/home/blegat/.julia/v0.6/Compat/src/Compat.jl:378\u001b[22m\u001b[22m",
      " [7] \u001b[1meventloop\u001b[22m\u001b[22m\u001b[1m(\u001b[22m\u001b[22m::ZMQ.Socket\u001b[1m)\u001b[22m\u001b[22m at \u001b[1m/home/blegat/.julia/v0.6/IJulia/src/eventloop.jl:8\u001b[22m\u001b[22m",
      " [8] \u001b[1m(::IJulia.##14#17)\u001b[22m\u001b[22m\u001b[1m(\u001b[22m\u001b[22m\u001b[1m)\u001b[22m\u001b[22m at \u001b[1m./task.jl:335\u001b[22m\u001b[22m"
     ]
    }
   ],
   "source": [
    "# Need to add support for Variable in Interval\n",
    "@constraint m 0 <= x <= 1"
   ]
  },
  {
   "cell_type": "code",
   "execution_count": null,
   "metadata": {
    "collapsed": true
   },
   "outputs": [],
   "source": []
  }
 ],
 "metadata": {
  "kernelspec": {
   "display_name": "Julia 0.6.2",
   "language": "julia",
   "name": "julia-0.6"
  },
  "language_info": {
   "file_extension": ".jl",
   "mimetype": "application/julia",
   "name": "julia",
   "version": "0.6.2"
  }
 },
 "nbformat": 4,
 "nbformat_minor": 2
}
