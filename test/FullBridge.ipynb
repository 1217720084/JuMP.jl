{
 "cells": [
  {
   "cell_type": "code",
   "execution_count": 1,
   "metadata": {},
   "outputs": [],
   "source": [
    "using MathOptInterface\n",
    "const MOI = MathOptInterface\n",
    "const MOIU = MOI.Utilities\n",
    "@MOIU.model LPModel () (EqualTo, GreaterThan, LessThan) () () (SingleVariable,) (ScalarAffineFunction,) () ()"
   ]
  },
  {
   "cell_type": "code",
   "execution_count": 2,
   "metadata": {},
   "outputs": [
    {
     "name": "stderr",
     "output_type": "stream",
     "text": [
      "\u001b[1m\u001b[36mINFO: \u001b[39m\u001b[22m\u001b[36mRecompiling stale cache file /home/blegat/.julia/lib/v0.6/JuMP.ji for module JuMP.\n",
      "\u001b[39m"
     ]
    }
   ],
   "source": [
    "using JuMP\n",
    "using Base.Test"
   ]
  },
  {
   "cell_type": "code",
   "execution_count": 6,
   "metadata": {},
   "outputs": [
    {
     "data": {
      "text/plain": [
       "\u001b[1m\u001b[32mTest Passed\u001b[39m\u001b[22m\n",
       "      Thrown: MethodError"
      ]
     },
     "execution_count": 6,
     "metadata": {},
     "output_type": "execute_result"
    }
   ],
   "source": [
    "optimizer = MOIU.MockOptimizer(LPModel{Float64}());\n",
    "m = Model(backend=optimizer, mode=JuMP.Direct)\n",
    "@variable m x\n",
    "@test_throws MethodError @constraint m 0 <= x + 1 <= 1"
   ]
  },
  {
   "cell_type": "code",
   "execution_count": 8,
   "metadata": {},
   "outputs": [
    {
     "data": {
      "text/plain": [
       "\u001b[1m\u001b[32mTest Passed\u001b[39m\u001b[22m"
      ]
     },
     "execution_count": 8,
     "metadata": {},
     "output_type": "execute_result"
    }
   ],
   "source": [
    "optimizer = MOIU.MockOptimizer(LPModel{Float64}());\n",
    "m = Model(optimizer=optimizer)\n",
    "@variable m x\n",
    "cref = @constraint m 0 <= x+1 <= 1\n",
    "@test cref isa JuMP.ConstraintRef{JuMP.Model,MOI.ConstraintIndex{MOI.ScalarAffineFunction{Float64},MOI.Interval{Float64}}}"
   ]
  },
  {
   "cell_type": "code",
   "execution_count": 6,
   "metadata": {},
   "outputs": [
    {
     "ename": "LoadError",
     "evalue": "\u001b[91mKeyError: key (MathOptInterface.SingleVariable, MathOptInterface.Interval{Float64}) not found\u001b[39m",
     "output_type": "error",
     "traceback": [
      "\u001b[91mKeyError: key (MathOptInterface.SingleVariable, MathOptInterface.Interval{Float64}) not found\u001b[39m",
      "",
      "Stacktrace:",
      " [1] \u001b[1mgetindex\u001b[22m\u001b[22m at \u001b[1m./dict.jl:474\u001b[22m\u001b[22m [inlined]",
      " [2] \u001b[1mbridgetype\u001b[22m\u001b[22m\u001b[1m(\u001b[22m\u001b[22m::MathOptInterface.Bridges.LazyBridgeOptimizer{MathOptInterface.Utilities.CachingOptimizer{MathOptInterface.Utilities.UniversalFallback{JuMP.JuMPMOIModel{Float64}}},MathOptInterface.Bridges.AllBridgedConstraints{Float64}}, ::Type{MathOptInterface.SingleVariable}, ::Type{MathOptInterface.Interval{Float64}}\u001b[1m)\u001b[22m\u001b[22m at \u001b[1m/home/blegat/.julia/v0.6/MathOptInterface/src/Bridges/lazybridgeoptimizer.jl:108\u001b[22m\u001b[22m",
      " [3] \u001b[1maddconstraint!\u001b[22m\u001b[22m\u001b[1m(\u001b[22m\u001b[22m::MathOptInterface.Bridges.LazyBridgeOptimizer{MathOptInterface.Utilities.CachingOptimizer{MathOptInterface.Utilities.UniversalFallback{JuMP.JuMPMOIModel{Float64}}},MathOptInterface.Bridges.AllBridgedConstraints{Float64}}, ::MathOptInterface.SingleVariable, ::MathOptInterface.Interval{Float64}\u001b[1m)\u001b[22m\u001b[22m at \u001b[1m/home/blegat/.julia/v0.6/MathOptInterface/src/Bridges/bridgeoptimizer.jl:206\u001b[22m\u001b[22m",
      " [4] \u001b[1maddconstraint\u001b[22m\u001b[22m\u001b[1m(\u001b[22m\u001b[22m::JuMP.Model, ::JuMP.SingleVariableConstraint{JuMP.VariableRef,MathOptInterface.Interval{Float64}}, ::String\u001b[1m)\u001b[22m\u001b[22m at \u001b[1m/home/blegat/.julia/v0.6/JuMP/src/JuMP.jl:281\u001b[22m\u001b[22m",
      " [5] \u001b[1mexecute_request\u001b[22m\u001b[22m\u001b[1m(\u001b[22m\u001b[22m::ZMQ.Socket, ::IJulia.Msg\u001b[1m)\u001b[22m\u001b[22m at \u001b[1m/home/blegat/.julia/v0.6/IJulia/src/execute_request.jl:158\u001b[22m\u001b[22m",
      " [6] \u001b[1m(::Compat.#inner#18{Array{Any,1},IJulia.#execute_request,Tuple{ZMQ.Socket,IJulia.Msg}})\u001b[22m\u001b[22m\u001b[1m(\u001b[22m\u001b[22m\u001b[1m)\u001b[22m\u001b[22m at \u001b[1m/home/blegat/.julia/v0.6/Compat/src/Compat.jl:378\u001b[22m\u001b[22m",
      " [7] \u001b[1meventloop\u001b[22m\u001b[22m\u001b[1m(\u001b[22m\u001b[22m::ZMQ.Socket\u001b[1m)\u001b[22m\u001b[22m at \u001b[1m/home/blegat/.julia/v0.6/IJulia/src/eventloop.jl:8\u001b[22m\u001b[22m",
      " [8] \u001b[1m(::IJulia.##14#17)\u001b[22m\u001b[22m\u001b[1m(\u001b[22m\u001b[22m\u001b[1m)\u001b[22m\u001b[22m at \u001b[1m./task.jl:335\u001b[22m\u001b[22m"
     ]
    }
   ],
   "source": [
    "# Need to add support for Variable in Interval\n",
    "@constraint m 0 <= x <= 1"
   ]
  },
  {
   "cell_type": "code",
   "execution_count": 9,
   "metadata": {},
   "outputs": [
    {
     "data": {
      "text/plain": [
       "MathOptInterface.Bridges.LazyBridgeOptimizer{MathOptInterface.Utilities.CachingOptimizer{MathOptInterface.AbstractOptimizer,MathOptInterface.Utilities.UniversalFallback{JuMP.JuMPMOIModel{Float64}}},MathOptInterface.Bridges.AllBridgedConstraints{Float64}}(MathOptInterface.Utilities.CachingOptimizer{MathOptInterface.AbstractOptimizer,MathOptInterface.Utilities.UniversalFallback{JuMP.JuMPMOIModel{Float64}}}(MathOptInterface.Utilities.MockOptimizer{LPModel{Float64}}(LPModel{Float64}(\"\", false, FeasibilitySense::MathOptInterface.OptimizationSense = 2, false, MathOptInterface.ScalarAffineFunction{Float64}(MathOptInterface.ScalarAffineTerm{Float64}[], 0.0), 0, Set{MathOptInterface.VariableIndex}(), Dict{MathOptInterface.VariableIndex,String}(), Dict{String,MathOptInterface.VariableIndex}(), 0, Dict{MathOptInterface.ConstraintIndex,String}(), Dict{String,MathOptInterface.ConstraintIndex}(), Int64[], LPModelScalarConstraints{Float64,MathOptInterface.SingleVariable}(Tuple{MathOptInterface.ConstraintIndex{MathOptInterface.SingleVariable,MathOptInterface.EqualTo{Float64}},MathOptInterface.SingleVariable,MathOptInterface.EqualTo{Float64}}[], Tuple{MathOptInterface.ConstraintIndex{MathOptInterface.SingleVariable,MathOptInterface.GreaterThan{Float64}},MathOptInterface.SingleVariable,MathOptInterface.GreaterThan{Float64}}[], Tuple{MathOptInterface.ConstraintIndex{MathOptInterface.SingleVariable,MathOptInterface.LessThan{Float64}},MathOptInterface.SingleVariable,MathOptInterface.LessThan{Float64}}[]), LPModelScalarConstraints{Float64,MathOptInterface.ScalarAffineFunction{Float64}}(Tuple{MathOptInterface.ConstraintIndex{MathOptInterface.ScalarAffineFunction{Float64},MathOptInterface.EqualTo{Float64}},MathOptInterface.ScalarAffineFunction{Float64},MathOptInterface.EqualTo{Float64}}[], Tuple{MathOptInterface.ConstraintIndex{MathOptInterface.ScalarAffineFunction{Float64},MathOptInterface.GreaterThan{Float64}},MathOptInterface.ScalarAffineFunction{Float64},MathOptInterface.GreaterThan{Float64}}[], Tuple{MathOptInterface.ConstraintIndex{MathOptInterface.ScalarAffineFunction{Float64},MathOptInterface.LessThan{Float64}},MathOptInterface.ScalarAffineFunction{Float64},MathOptInterface.LessThan{Float64}}[])), 0, Dict{MathOptInterface.VariableIndex,Int64}(), Dict{MathOptInterface.ConstraintIndex,Int64}(), false, true, MathOptInterface.Utilities.#53, false, false, false, Success::MathOptInterface.TerminationStatusCode = 0, 0, true, NaN, UnknownResultStatus::MathOptInterface.ResultStatusCode = 7, UnknownResultStatus::MathOptInterface.ResultStatusCode = 7, Dict{MathOptInterface.VariableIndex,Float64}(), Dict{MathOptInterface.ConstraintIndex,Any}()), MathOptInterface.Utilities.UniversalFallback{JuMP.JuMPMOIModel{Float64}}(JuMP.JuMPMOIModel{Float64}(\"\", false, FeasibilitySense::MathOptInterface.OptimizationSense = 2, false, MathOptInterface.ScalarAffineFunction{Float64}(MathOptInterface.ScalarAffineTerm{Float64}[], 0.0), 1, Set(MathOptInterface.VariableIndex[MathOptInterface.VariableIndex(1)]), Dict(MathOptInterface.VariableIndex(1)=>\"x\"), Dict(\"x\"=>MathOptInterface.VariableIndex(1)), 2, Dict{MathOptInterface.ConstraintIndex,String}(), Dict{String,MathOptInterface.ConstraintIndex}(), [1, 1], JuMP.JuMPMOIModelScalarConstraints{Float64,MathOptInterface.SingleVariable}(Tuple{MathOptInterface.ConstraintIndex{MathOptInterface.SingleVariable,MathOptInterface.ZeroOne},MathOptInterface.SingleVariable,MathOptInterface.ZeroOne}[], Tuple{MathOptInterface.ConstraintIndex{MathOptInterface.SingleVariable,MathOptInterface.Integer},MathOptInterface.SingleVariable,MathOptInterface.Integer}[], Tuple{MathOptInterface.ConstraintIndex{MathOptInterface.SingleVariable,MathOptInterface.EqualTo{Float64}},MathOptInterface.SingleVariable,MathOptInterface.EqualTo{Float64}}[], Tuple{MathOptInterface.ConstraintIndex{MathOptInterface.SingleVariable,MathOptInterface.GreaterThan{Float64}},MathOptInterface.SingleVariable,MathOptInterface.GreaterThan{Float64}}[], Tuple{MathOptInterface.ConstraintIndex{MathOptInterface.SingleVariable,MathOptInterface.LessThan{Float64}},MathOptInterface.SingleVariable,MathOptInterface.LessThan{Float64}}[], Tuple{MathOptInterface.ConstraintIndex{MathOptInterface.SingleVariable,MathOptInterface.Interval{Float64}},MathOptInterface.SingleVariable,MathOptInterface.Interval{Float64}}[]), JuMP.JuMPMOIModelScalarConstraints{Float64,MathOptInterface.ScalarAffineFunction{Float64}}(Tuple{MathOptInterface.ConstraintIndex{MathOptInterface.ScalarAffineFunction{Float64},MathOptInterface.ZeroOne},MathOptInterface.ScalarAffineFunction{Float64},MathOptInterface.ZeroOne}[], Tuple{MathOptInterface.ConstraintIndex{MathOptInterface.ScalarAffineFunction{Float64},MathOptInterface.Integer},MathOptInterface.ScalarAffineFunction{Float64},MathOptInterface.Integer}[], Tuple{MathOptInterface.ConstraintIndex{MathOptInterface.ScalarAffineFunction{Float64},MathOptInterface.EqualTo{Float64}},MathOptInterface.ScalarAffineFunction{Float64},MathOptInterface.EqualTo{Float64}}[], Tuple{MathOptInterface.ConstraintIndex{MathOptInterface.ScalarAffineFunction{Float64},MathOptInterface.GreaterThan{Float64}},MathOptInterface.ScalarAffineFunction{Float64},MathOptInterface.GreaterThan{Float64}}[(MathOptInterface.ConstraintIndex{MathOptInterface.ScalarAffineFunction{Float64},MathOptInterface.GreaterThan{Float64}}(1), MathOptInterface.ScalarAffineFunction{Float64}(MathOptInterface.ScalarAffineTerm{Float64}[MathOptInterface.ScalarAffineTerm{Float64}(1.0, MathOptInterface.VariableIndex(1))], 0.0), MathOptInterface.GreaterThan{Float64}(-1.0))], Tuple{MathOptInterface.ConstraintIndex{MathOptInterface.ScalarAffineFunction{Float64},MathOptInterface.LessThan{Float64}},MathOptInterface.ScalarAffineFunction{Float64},MathOptInterface.LessThan{Float64}}[(MathOptInterface.ConstraintIndex{MathOptInterface.ScalarAffineFunction{Float64},MathOptInterface.LessThan{Float64}}(2), MathOptInterface.ScalarAffineFunction{Float64}(MathOptInterface.ScalarAffineTerm{Float64}[MathOptInterface.ScalarAffineTerm{Float64}(1.0, MathOptInterface.VariableIndex(1))], 0.0), MathOptInterface.LessThan{Float64}(0.0))], Tuple{MathOptInterface.ConstraintIndex{MathOptInterface.ScalarAffineFunction{Float64},MathOptInterface.Interval{Float64}},MathOptInterface.ScalarAffineFunction{Float64},MathOptInterface.Interval{Float64}}[]), JuMP.JuMPMOIModelScalarConstraints{Float64,MathOptInterface.ScalarQuadraticFunction{Float64}}(Tuple{MathOptInterface.ConstraintIndex{MathOptInterface.ScalarQuadraticFunction{Float64},MathOptInterface.ZeroOne},MathOptInterface.ScalarQuadraticFunction{Float64},MathOptInterface.ZeroOne}[], Tuple{MathOptInterface.ConstraintIndex{MathOptInterface.ScalarQuadraticFunction{Float64},MathOptInterface.Integer},MathOptInterface.ScalarQuadraticFunction{Float64},MathOptInterface.Integer}[], Tuple{MathOptInterface.ConstraintIndex{MathOptInterface.ScalarQuadraticFunction{Float64},MathOptInterface.EqualTo{Float64}},MathOptInterface.ScalarQuadraticFunction{Float64},MathOptInterface.EqualTo{Float64}}[], Tuple{MathOptInterface.ConstraintIndex{MathOptInterface.ScalarQuadraticFunction{Float64},MathOptInterface.GreaterThan{Float64}},MathOptInterface.ScalarQuadraticFunction{Float64},MathOptInterface.GreaterThan{Float64}}[], Tuple{MathOptInterface.ConstraintIndex{MathOptInterface.ScalarQuadraticFunction{Float64},MathOptInterface.LessThan{Float64}},MathOptInterface.ScalarQuadraticFunction{Float64},MathOptInterface.LessThan{Float64}}[], Tuple{MathOptInterface.ConstraintIndex{MathOptInterface.ScalarQuadraticFunction{Float64},MathOptInterface.Interval{Float64}},MathOptInterface.ScalarQuadraticFunction{Float64},MathOptInterface.Interval{Float64}}[]), JuMP.JuMPMOIModelVectorConstraints{Float64,MathOptInterface.VectorOfVariables}(Tuple{MathOptInterface.ConstraintIndex{MathOptInterface.VectorOfVariables,MathOptInterface.Zeros},MathOptInterface.VectorOfVariables,MathOptInterface.Zeros}[], Tuple{MathOptInterface.ConstraintIndex{MathOptInterface.VectorOfVariables,MathOptInterface.Nonnegatives},MathOptInterface.VectorOfVariables,MathOptInterface.Nonnegatives}[], Tuple{MathOptInterface.ConstraintIndex{MathOptInterface.VectorOfVariables,MathOptInterface.Nonpositives},MathOptInterface.VectorOfVariables,MathOptInterface.Nonpositives}[], Tuple{MathOptInterface.ConstraintIndex{MathOptInterface.VectorOfVariables,MathOptInterface.SecondOrderCone},MathOptInterface.VectorOfVariables,MathOptInterface.SecondOrderCone}[], Tuple{MathOptInterface.ConstraintIndex{MathOptInterface.VectorOfVariables,MathOptInterface.RotatedSecondOrderCone},MathOptInterface.VectorOfVariables,MathOptInterface.RotatedSecondOrderCone}[], Tuple{MathOptInterface.ConstraintIndex{MathOptInterface.VectorOfVariables,MathOptInterface.GeometricMeanCone},MathOptInterface.VectorOfVariables,MathOptInterface.GeometricMeanCone}[], Tuple{MathOptInterface.ConstraintIndex{MathOptInterface.VectorOfVariables,MathOptInterface.PositiveSemidefiniteConeTriangle},MathOptInterface.VectorOfVariables,MathOptInterface.PositiveSemidefiniteConeTriangle}[], Tuple{MathOptInterface.ConstraintIndex{MathOptInterface.VectorOfVariables,MathOptInterface.PositiveSemidefiniteConeSquare},MathOptInterface.VectorOfVariables,MathOptInterface.PositiveSemidefiniteConeSquare}[], Tuple{MathOptInterface.ConstraintIndex{MathOptInterface.VectorOfVariables,MathOptInterface.RootDetConeTriangle},MathOptInterface.VectorOfVariables,MathOptInterface.RootDetConeTriangle}[], Tuple{MathOptInterface.ConstraintIndex{MathOptInterface.VectorOfVariables,MathOptInterface.RootDetConeSquare},MathOptInterface.VectorOfVariables,MathOptInterface.RootDetConeSquare}[], Tuple{MathOptInterface.ConstraintIndex{MathOptInterface.VectorOfVariables,MathOptInterface.LogDetConeTriangle},MathOptInterface.VectorOfVariables,MathOptInterface.LogDetConeTriangle}[], Tuple{MathOptInterface.ConstraintIndex{MathOptInterface.VectorOfVariables,MathOptInterface.LogDetConeSquare},MathOptInterface.VectorOfVariables,MathOptInterface.LogDetConeSquare}[]), JuMP.JuMPMOIModelVectorConstraints{Float64,MathOptInterface.VectorAffineFunction{Float64}}(Tuple{MathOptInterface.ConstraintIndex{MathOptInterface.VectorAffineFunction{Float64},MathOptInterface.Zeros},MathOptInterface.VectorAffineFunction{Float64},MathOptInterface.Zeros}[], Tuple{MathOptInterface.ConstraintIndex{MathOptInterface.VectorAffineFunction{Float64},MathOptInterface.Nonnegatives},MathOptInterface.VectorAffineFunction{Float64},MathOptInterface.Nonnegatives}[], Tuple{MathOptInterface.ConstraintIndex{MathOptInterface.VectorAffineFunction{Float64},MathOptInterface.Nonpositives},MathOptInterface.VectorAffineFunction{Float64},MathOptInterface.Nonpositives}[], Tuple{MathOptInterface.ConstraintIndex{MathOptInterface.VectorAffineFunction{Float64},MathOptInterface.SecondOrderCone},MathOptInterface.VectorAffineFunction{Float64},MathOptInterface.SecondOrderCone}[], Tuple{MathOptInterface.ConstraintIndex{MathOptInterface.VectorAffineFunction{Float64},MathOptInterface.RotatedSecondOrderCone},MathOptInterface.VectorAffineFunction{Float64},MathOptInterface.RotatedSecondOrderCone}[], Tuple{MathOptInterface.ConstraintIndex{MathOptInterface.VectorAffineFunction{Float64},MathOptInterface.GeometricMeanCone},MathOptInterface.VectorAffineFunction{Float64},MathOptInterface.GeometricMeanCone}[], Tuple{MathOptInterface.ConstraintIndex{MathOptInterface.VectorAffineFunction{Float64},MathOptInterface.PositiveSemidefiniteConeTriangle},MathOptInterface.VectorAffineFunction{Float64},MathOptInterface.PositiveSemidefiniteConeTriangle}[], Tuple{MathOptInterface.ConstraintIndex{MathOptInterface.VectorAffineFunction{Float64},MathOptInterface.PositiveSemidefiniteConeSquare},MathOptInterface.VectorAffineFunction{Float64},MathOptInterface.PositiveSemidefiniteConeSquare}[], Tuple{MathOptInterface.ConstraintIndex{MathOptInterface.VectorAffineFunction{Float64},MathOptInterface.RootDetConeTriangle},MathOptInterface.VectorAffineFunction{Float64},MathOptInterface.RootDetConeTriangle}[], Tuple{MathOptInterface.ConstraintIndex{MathOptInterface.VectorAffineFunction{Float64},MathOptInterface.RootDetConeSquare},MathOptInterface.VectorAffineFunction{Float64},MathOptInterface.RootDetConeSquare}[], Tuple{MathOptInterface.ConstraintIndex{MathOptInterface.VectorAffineFunction{Float64},MathOptInterface.LogDetConeTriangle},MathOptInterface.VectorAffineFunction{Float64},MathOptInterface.LogDetConeTriangle}[], Tuple{MathOptInterface.ConstraintIndex{MathOptInterface.VectorAffineFunction{Float64},MathOptInterface.LogDetConeSquare},MathOptInterface.VectorAffineFunction{Float64},MathOptInterface.LogDetConeSquare}[])), Dict{MathOptInterface.AbstractOptimizerAttribute,Any}(), Dict{MathOptInterface.AbstractModelAttribute,Any}(), Dict{MathOptInterface.AbstractVariableAttribute,Dict{MathOptInterface.VariableIndex,Any}}(), Dict{MathOptInterface.AbstractConstraintAttribute,Dict{MathOptInterface.ConstraintIndex,Any}}()), EmptyOptimizer::MathOptInterface.Utilities.CachingOptimizerState = 1, Automatic::MathOptInterface.Utilities.CachingOptimizerMode = 1, MathOptInterface.Utilities.IndexMap(Dict{MathOptInterface.VariableIndex,MathOptInterface.VariableIndex}(), Dict{MathOptInterface.ConstraintIndex,MathOptInterface.ConstraintIndex}()), MathOptInterface.Utilities.IndexMap(Dict{MathOptInterface.VariableIndex,MathOptInterface.VariableIndex}(), Dict{MathOptInterface.ConstraintIndex,MathOptInterface.ConstraintIndex}())), MathOptInterface.Bridges.AllBridgedConstraints{Float64}(\"\", false, FeasibilitySense::MathOptInterface.OptimizationSense = 2, false, MathOptInterface.ScalarAffineFunction{Float64}(MathOptInterface.ScalarAffineTerm{Float64}[], 0.0), 0, Set{MathOptInterface.VariableIndex}(), Dict{MathOptInterface.VariableIndex,String}(), Dict{String,MathOptInterface.VariableIndex}(), 1, Dict{MathOptInterface.ConstraintIndex,String}(), Dict{String,MathOptInterface.ConstraintIndex}(), [1], MathOptInterface.Bridges.AllBridgedConstraintsScalarConstraints{Float64,MathOptInterface.ScalarAffineFunction{Float64}}(Tuple{MathOptInterface.ConstraintIndex{MathOptInterface.ScalarAffineFunction{Float64},MathOptInterface.Interval{Float64}},MathOptInterface.ScalarAffineFunction{Float64},MathOptInterface.Interval{Float64}}[(MathOptInterface.ConstraintIndex{MathOptInterface.ScalarAffineFunction{Float64},MathOptInterface.Interval{Float64}}(1), MathOptInterface.ScalarAffineFunction{Float64}(MathOptInterface.ScalarAffineTerm{Float64}[MathOptInterface.ScalarAffineTerm{Float64}(1.0, MathOptInterface.VariableIndex(1))], 0.0), MathOptInterface.Interval{Float64}(-1.0, 0.0))]), MathOptInterface.Bridges.AllBridgedConstraintsVectorConstraints{Float64,MathOptInterface.VectorOfVariables}(Tuple{MathOptInterface.ConstraintIndex{MathOptInterface.VectorOfVariables,MathOptInterface.SecondOrderCone},MathOptInterface.VectorOfVariables,MathOptInterface.SecondOrderCone}[], Tuple{MathOptInterface.ConstraintIndex{MathOptInterface.VectorOfVariables,MathOptInterface.RotatedSecondOrderCone},MathOptInterface.VectorOfVariables,MathOptInterface.RotatedSecondOrderCone}[], Tuple{MathOptInterface.ConstraintIndex{MathOptInterface.VectorOfVariables,MathOptInterface.GeometricMeanCone},MathOptInterface.VectorOfVariables,MathOptInterface.GeometricMeanCone}[], Tuple{MathOptInterface.ConstraintIndex{MathOptInterface.VectorOfVariables,MathOptInterface.LogDetConeTriangle},MathOptInterface.VectorOfVariables,MathOptInterface.LogDetConeTriangle}[], Tuple{MathOptInterface.ConstraintIndex{MathOptInterface.VectorOfVariables,MathOptInterface.RootDetConeTriangle},MathOptInterface.VectorOfVariables,MathOptInterface.RootDetConeTriangle}[]), MathOptInterface.Bridges.AllBridgedConstraintsVectorConstraints{Float64,MathOptInterface.VectorAffineFunction{Float64}}(Tuple{MathOptInterface.ConstraintIndex{MathOptInterface.VectorAffineFunction{Float64},MathOptInterface.SecondOrderCone},MathOptInterface.VectorAffineFunction{Float64},MathOptInterface.SecondOrderCone}[], Tuple{MathOptInterface.ConstraintIndex{MathOptInterface.VectorAffineFunction{Float64},MathOptInterface.RotatedSecondOrderCone},MathOptInterface.VectorAffineFunction{Float64},MathOptInterface.RotatedSecondOrderCone}[], Tuple{MathOptInterface.ConstraintIndex{MathOptInterface.VectorAffineFunction{Float64},MathOptInterface.GeometricMeanCone},MathOptInterface.VectorAffineFunction{Float64},MathOptInterface.GeometricMeanCone}[], Tuple{MathOptInterface.ConstraintIndex{MathOptInterface.VectorAffineFunction{Float64},MathOptInterface.LogDetConeTriangle},MathOptInterface.VectorAffineFunction{Float64},MathOptInterface.LogDetConeTriangle}[], Tuple{MathOptInterface.ConstraintIndex{MathOptInterface.VectorAffineFunction{Float64},MathOptInterface.RootDetConeTriangle},MathOptInterface.VectorAffineFunction{Float64},MathOptInterface.RootDetConeTriangle}[])), Dict{MathOptInterface.ConstraintIndex,MathOptInterface.Bridges.AbstractBridge}(Pair{MathOptInterface.ConstraintIndex,MathOptInterface.Bridges.AbstractBridge}(MathOptInterface.ConstraintIndex{MathOptInterface.ScalarAffineFunction{Float64},MathOptInterface.Interval{Float64}}(1), MathOptInterface.Bridges.SplitIntervalBridge{Float64}(MathOptInterface.ConstraintIndex{MathOptInterface.ScalarAffineFunction{Float64},MathOptInterface.GreaterThan{Float64}}(1), MathOptInterface.ConstraintIndex{MathOptInterface.ScalarAffineFunction{Float64},MathOptInterface.LessThan{Float64}}(2)))), DataType[MathOptInterface.Bridges.SplitIntervalBridge{Float64}, MathOptInterface.Bridges.GeoMeanBridge{Float64}, MathOptInterface.Bridges.LogDetBridge{Float64}, MathOptInterface.Bridges.RootDetBridge{Float64}, MathOptInterface.Bridges.RSOCBridge{Float64}, MathOptInterface.Bridges.RSOCtoPSDCBridge{Float64}, MathOptInterface.Bridges.SOCtoPSDCBridge{Float64}], Dict((MathOptInterface.ScalarAffineFunction{Float64}, MathOptInterface.Interval{Float64})=>0), Dict((MathOptInterface.ScalarAffineFunction{Float64}, MathOptInterface.Interval{Float64})=>MathOptInterface.Bridges.SplitIntervalBridge{Float64}))"
      ]
     },
     "execution_count": 9,
     "metadata": {},
     "output_type": "execute_result"
    }
   ],
   "source": [
    "m.moibackend"
   ]
  },
  {
   "cell_type": "code",
   "execution_count": 10,
   "metadata": {},
   "outputs": [
    {
     "data": {
      "text/plain": [
       "MathOptInterface.Utilities.UniversalFallback{JuMP.JuMPMOIModel{Float64}}(JuMP.JuMPMOIModel{Float64}(\"\", false, FeasibilitySense::MathOptInterface.OptimizationSense = 2, false, MathOptInterface.ScalarAffineFunction{Float64}(MathOptInterface.ScalarAffineTerm{Float64}[], 0.0), 1, Set(MathOptInterface.VariableIndex[MathOptInterface.VariableIndex(1)]), Dict(MathOptInterface.VariableIndex(1)=>\"x\"), Dict(\"x\"=>MathOptInterface.VariableIndex(1)), 2, Dict{MathOptInterface.ConstraintIndex,String}(), Dict{String,MathOptInterface.ConstraintIndex}(), [1, 1], JuMP.JuMPMOIModelScalarConstraints{Float64,MathOptInterface.SingleVariable}(Tuple{MathOptInterface.ConstraintIndex{MathOptInterface.SingleVariable,MathOptInterface.ZeroOne},MathOptInterface.SingleVariable,MathOptInterface.ZeroOne}[], Tuple{MathOptInterface.ConstraintIndex{MathOptInterface.SingleVariable,MathOptInterface.Integer},MathOptInterface.SingleVariable,MathOptInterface.Integer}[], Tuple{MathOptInterface.ConstraintIndex{MathOptInterface.SingleVariable,MathOptInterface.EqualTo{Float64}},MathOptInterface.SingleVariable,MathOptInterface.EqualTo{Float64}}[], Tuple{MathOptInterface.ConstraintIndex{MathOptInterface.SingleVariable,MathOptInterface.GreaterThan{Float64}},MathOptInterface.SingleVariable,MathOptInterface.GreaterThan{Float64}}[], Tuple{MathOptInterface.ConstraintIndex{MathOptInterface.SingleVariable,MathOptInterface.LessThan{Float64}},MathOptInterface.SingleVariable,MathOptInterface.LessThan{Float64}}[], Tuple{MathOptInterface.ConstraintIndex{MathOptInterface.SingleVariable,MathOptInterface.Interval{Float64}},MathOptInterface.SingleVariable,MathOptInterface.Interval{Float64}}[]), JuMP.JuMPMOIModelScalarConstraints{Float64,MathOptInterface.ScalarAffineFunction{Float64}}(Tuple{MathOptInterface.ConstraintIndex{MathOptInterface.ScalarAffineFunction{Float64},MathOptInterface.ZeroOne},MathOptInterface.ScalarAffineFunction{Float64},MathOptInterface.ZeroOne}[], Tuple{MathOptInterface.ConstraintIndex{MathOptInterface.ScalarAffineFunction{Float64},MathOptInterface.Integer},MathOptInterface.ScalarAffineFunction{Float64},MathOptInterface.Integer}[], Tuple{MathOptInterface.ConstraintIndex{MathOptInterface.ScalarAffineFunction{Float64},MathOptInterface.EqualTo{Float64}},MathOptInterface.ScalarAffineFunction{Float64},MathOptInterface.EqualTo{Float64}}[], Tuple{MathOptInterface.ConstraintIndex{MathOptInterface.ScalarAffineFunction{Float64},MathOptInterface.GreaterThan{Float64}},MathOptInterface.ScalarAffineFunction{Float64},MathOptInterface.GreaterThan{Float64}}[(MathOptInterface.ConstraintIndex{MathOptInterface.ScalarAffineFunction{Float64},MathOptInterface.GreaterThan{Float64}}(1), MathOptInterface.ScalarAffineFunction{Float64}(MathOptInterface.ScalarAffineTerm{Float64}[MathOptInterface.ScalarAffineTerm{Float64}(1.0, MathOptInterface.VariableIndex(1))], 0.0), MathOptInterface.GreaterThan{Float64}(-1.0))], Tuple{MathOptInterface.ConstraintIndex{MathOptInterface.ScalarAffineFunction{Float64},MathOptInterface.LessThan{Float64}},MathOptInterface.ScalarAffineFunction{Float64},MathOptInterface.LessThan{Float64}}[(MathOptInterface.ConstraintIndex{MathOptInterface.ScalarAffineFunction{Float64},MathOptInterface.LessThan{Float64}}(2), MathOptInterface.ScalarAffineFunction{Float64}(MathOptInterface.ScalarAffineTerm{Float64}[MathOptInterface.ScalarAffineTerm{Float64}(1.0, MathOptInterface.VariableIndex(1))], 0.0), MathOptInterface.LessThan{Float64}(0.0))], Tuple{MathOptInterface.ConstraintIndex{MathOptInterface.ScalarAffineFunction{Float64},MathOptInterface.Interval{Float64}},MathOptInterface.ScalarAffineFunction{Float64},MathOptInterface.Interval{Float64}}[]), JuMP.JuMPMOIModelScalarConstraints{Float64,MathOptInterface.ScalarQuadraticFunction{Float64}}(Tuple{MathOptInterface.ConstraintIndex{MathOptInterface.ScalarQuadraticFunction{Float64},MathOptInterface.ZeroOne},MathOptInterface.ScalarQuadraticFunction{Float64},MathOptInterface.ZeroOne}[], Tuple{MathOptInterface.ConstraintIndex{MathOptInterface.ScalarQuadraticFunction{Float64},MathOptInterface.Integer},MathOptInterface.ScalarQuadraticFunction{Float64},MathOptInterface.Integer}[], Tuple{MathOptInterface.ConstraintIndex{MathOptInterface.ScalarQuadraticFunction{Float64},MathOptInterface.EqualTo{Float64}},MathOptInterface.ScalarQuadraticFunction{Float64},MathOptInterface.EqualTo{Float64}}[], Tuple{MathOptInterface.ConstraintIndex{MathOptInterface.ScalarQuadraticFunction{Float64},MathOptInterface.GreaterThan{Float64}},MathOptInterface.ScalarQuadraticFunction{Float64},MathOptInterface.GreaterThan{Float64}}[], Tuple{MathOptInterface.ConstraintIndex{MathOptInterface.ScalarQuadraticFunction{Float64},MathOptInterface.LessThan{Float64}},MathOptInterface.ScalarQuadraticFunction{Float64},MathOptInterface.LessThan{Float64}}[], Tuple{MathOptInterface.ConstraintIndex{MathOptInterface.ScalarQuadraticFunction{Float64},MathOptInterface.Interval{Float64}},MathOptInterface.ScalarQuadraticFunction{Float64},MathOptInterface.Interval{Float64}}[]), JuMP.JuMPMOIModelVectorConstraints{Float64,MathOptInterface.VectorOfVariables}(Tuple{MathOptInterface.ConstraintIndex{MathOptInterface.VectorOfVariables,MathOptInterface.Zeros},MathOptInterface.VectorOfVariables,MathOptInterface.Zeros}[], Tuple{MathOptInterface.ConstraintIndex{MathOptInterface.VectorOfVariables,MathOptInterface.Nonnegatives},MathOptInterface.VectorOfVariables,MathOptInterface.Nonnegatives}[], Tuple{MathOptInterface.ConstraintIndex{MathOptInterface.VectorOfVariables,MathOptInterface.Nonpositives},MathOptInterface.VectorOfVariables,MathOptInterface.Nonpositives}[], Tuple{MathOptInterface.ConstraintIndex{MathOptInterface.VectorOfVariables,MathOptInterface.SecondOrderCone},MathOptInterface.VectorOfVariables,MathOptInterface.SecondOrderCone}[], Tuple{MathOptInterface.ConstraintIndex{MathOptInterface.VectorOfVariables,MathOptInterface.RotatedSecondOrderCone},MathOptInterface.VectorOfVariables,MathOptInterface.RotatedSecondOrderCone}[], Tuple{MathOptInterface.ConstraintIndex{MathOptInterface.VectorOfVariables,MathOptInterface.GeometricMeanCone},MathOptInterface.VectorOfVariables,MathOptInterface.GeometricMeanCone}[], Tuple{MathOptInterface.ConstraintIndex{MathOptInterface.VectorOfVariables,MathOptInterface.PositiveSemidefiniteConeTriangle},MathOptInterface.VectorOfVariables,MathOptInterface.PositiveSemidefiniteConeTriangle}[], Tuple{MathOptInterface.ConstraintIndex{MathOptInterface.VectorOfVariables,MathOptInterface.PositiveSemidefiniteConeSquare},MathOptInterface.VectorOfVariables,MathOptInterface.PositiveSemidefiniteConeSquare}[], Tuple{MathOptInterface.ConstraintIndex{MathOptInterface.VectorOfVariables,MathOptInterface.RootDetConeTriangle},MathOptInterface.VectorOfVariables,MathOptInterface.RootDetConeTriangle}[], Tuple{MathOptInterface.ConstraintIndex{MathOptInterface.VectorOfVariables,MathOptInterface.RootDetConeSquare},MathOptInterface.VectorOfVariables,MathOptInterface.RootDetConeSquare}[], Tuple{MathOptInterface.ConstraintIndex{MathOptInterface.VectorOfVariables,MathOptInterface.LogDetConeTriangle},MathOptInterface.VectorOfVariables,MathOptInterface.LogDetConeTriangle}[], Tuple{MathOptInterface.ConstraintIndex{MathOptInterface.VectorOfVariables,MathOptInterface.LogDetConeSquare},MathOptInterface.VectorOfVariables,MathOptInterface.LogDetConeSquare}[]), JuMP.JuMPMOIModelVectorConstraints{Float64,MathOptInterface.VectorAffineFunction{Float64}}(Tuple{MathOptInterface.ConstraintIndex{MathOptInterface.VectorAffineFunction{Float64},MathOptInterface.Zeros},MathOptInterface.VectorAffineFunction{Float64},MathOptInterface.Zeros}[], Tuple{MathOptInterface.ConstraintIndex{MathOptInterface.VectorAffineFunction{Float64},MathOptInterface.Nonnegatives},MathOptInterface.VectorAffineFunction{Float64},MathOptInterface.Nonnegatives}[], Tuple{MathOptInterface.ConstraintIndex{MathOptInterface.VectorAffineFunction{Float64},MathOptInterface.Nonpositives},MathOptInterface.VectorAffineFunction{Float64},MathOptInterface.Nonpositives}[], Tuple{MathOptInterface.ConstraintIndex{MathOptInterface.VectorAffineFunction{Float64},MathOptInterface.SecondOrderCone},MathOptInterface.VectorAffineFunction{Float64},MathOptInterface.SecondOrderCone}[], Tuple{MathOptInterface.ConstraintIndex{MathOptInterface.VectorAffineFunction{Float64},MathOptInterface.RotatedSecondOrderCone},MathOptInterface.VectorAffineFunction{Float64},MathOptInterface.RotatedSecondOrderCone}[], Tuple{MathOptInterface.ConstraintIndex{MathOptInterface.VectorAffineFunction{Float64},MathOptInterface.GeometricMeanCone},MathOptInterface.VectorAffineFunction{Float64},MathOptInterface.GeometricMeanCone}[], Tuple{MathOptInterface.ConstraintIndex{MathOptInterface.VectorAffineFunction{Float64},MathOptInterface.PositiveSemidefiniteConeTriangle},MathOptInterface.VectorAffineFunction{Float64},MathOptInterface.PositiveSemidefiniteConeTriangle}[], Tuple{MathOptInterface.ConstraintIndex{MathOptInterface.VectorAffineFunction{Float64},MathOptInterface.PositiveSemidefiniteConeSquare},MathOptInterface.VectorAffineFunction{Float64},MathOptInterface.PositiveSemidefiniteConeSquare}[], Tuple{MathOptInterface.ConstraintIndex{MathOptInterface.VectorAffineFunction{Float64},MathOptInterface.RootDetConeTriangle},MathOptInterface.VectorAffineFunction{Float64},MathOptInterface.RootDetConeTriangle}[], Tuple{MathOptInterface.ConstraintIndex{MathOptInterface.VectorAffineFunction{Float64},MathOptInterface.RootDetConeSquare},MathOptInterface.VectorAffineFunction{Float64},MathOptInterface.RootDetConeSquare}[], Tuple{MathOptInterface.ConstraintIndex{MathOptInterface.VectorAffineFunction{Float64},MathOptInterface.LogDetConeTriangle},MathOptInterface.VectorAffineFunction{Float64},MathOptInterface.LogDetConeTriangle}[], Tuple{MathOptInterface.ConstraintIndex{MathOptInterface.VectorAffineFunction{Float64},MathOptInterface.LogDetConeSquare},MathOptInterface.VectorAffineFunction{Float64},MathOptInterface.LogDetConeSquare}[])), Dict{MathOptInterface.AbstractOptimizerAttribute,Any}(), Dict{MathOptInterface.AbstractModelAttribute,Any}(), Dict{MathOptInterface.AbstractVariableAttribute,Dict{MathOptInterface.VariableIndex,Any}}(), Dict{MathOptInterface.AbstractConstraintAttribute,Dict{MathOptInterface.ConstraintIndex,Any}}())"
      ]
     },
     "execution_count": 10,
     "metadata": {},
     "output_type": "execute_result"
    }
   ],
   "source": [
    "m.moibackend.model.model_cache"
   ]
  },
  {
   "cell_type": "code",
   "execution_count": null,
   "metadata": {
    "collapsed": true
   },
   "outputs": [],
   "source": []
  }
 ],
 "metadata": {
  "kernelspec": {
   "display_name": "Julia 0.6.3",
   "language": "julia",
   "name": "julia-0.6"
  },
  "language_info": {
   "file_extension": ".jl",
   "mimetype": "application/julia",
   "name": "julia",
   "version": "0.6.3"
  }
 },
 "nbformat": 4,
 "nbformat_minor": 2
}
