{
 "cells": [
  {
   "cell_type": "code",
   "execution_count": 1,
   "metadata": {},
   "outputs": [],
   "source": [
    "struct UnitNumber <: Number\n",
    "    α::Float64\n",
    "end"
   ]
  },
  {
   "cell_type": "code",
   "execution_count": 17,
   "metadata": {
    "collapsed": true
   },
   "outputs": [],
   "source": [
    "Base.zero(::Union{UnitNumber, Type{UnitNumber}}) = UnitNumber(0.0)\n",
    "Base.oneunit(::Union{UnitNumber, Type{UnitNumber}}) = UnitNumber(1.0)\n",
    "Base.:(+)(u::UnitNumber, v::UnitNumber) = UnitNumber(u.α + v.α)\n",
    "Base.:(-)(u::UnitNumber, v::UnitNumber) = UnitNumber(u.α - v.α)\n",
    "Base.:(*)(α::Float64, u::UnitNumber) = UnitNumber(α * u.α)\n",
    "Base.abs(u::UnitNumber) = UnitNumber(abs(u.α))\n",
    "Base.isless(u::UnitNumber, v::UnitNumber) = isless(u.α, v.α)"
   ]
  },
  {
   "cell_type": "code",
   "execution_count": 3,
   "metadata": {},
   "outputs": [
    {
     "data": {
      "text/plain": [
       "UnitNumber(2.0)"
      ]
     },
     "execution_count": 3,
     "metadata": {},
     "output_type": "execute_result"
    }
   ],
   "source": [
    "u = UnitNumber(2.0)"
   ]
  },
  {
   "cell_type": "code",
   "execution_count": 31,
   "metadata": {},
   "outputs": [
    {
     "data": {
      "text/latex": [
       "$$ y $$"
      ],
      "text/plain": [
       "y"
      ]
     },
     "execution_count": 31,
     "metadata": {},
     "output_type": "execute_result"
    }
   ],
   "source": [
    "using JuMP\n",
    "m = Model()\n",
    "@variable m x\n",
    "@variable m y"
   ]
  },
  {
   "cell_type": "code",
   "execution_count": 35,
   "metadata": {},
   "outputs": [
    {
     "data": {
      "text/latex": [
       "$$ UnitNumber(2.0) x $$"
      ],
      "text/plain": [
       "UnitNumber(2.0) x"
      ]
     },
     "execution_count": 35,
     "metadata": {},
     "output_type": "execute_result"
    }
   ],
   "source": [
    "aff = JuMP.GenericAffExpr(zero(u), x => u, y => zero(u))"
   ]
  },
  {
   "cell_type": "code",
   "execution_count": 36,
   "metadata": {},
   "outputs": [
    {
     "data": {
      "text/latex": [
       "$$ UnitNumber(2.0) x^2 + UnitNumber(0.0) $$"
      ],
      "text/plain": [
       "UnitNumber(2.0) x² + UnitNumber(0.0)"
      ]
     },
     "execution_count": 36,
     "metadata": {},
     "output_type": "execute_result"
    }
   ],
   "source": [
    "quad = aff * x"
   ]
  },
  {
   "cell_type": "code",
   "execution_count": 37,
   "metadata": {},
   "outputs": [
    {
     "data": {
      "text/plain": [
       "true"
      ]
     },
     "execution_count": 37,
     "metadata": {},
     "output_type": "execute_result"
    }
   ],
   "source": [
    "JuMP.iszeroforprinting(quad.aff.constant)"
   ]
  },
  {
   "cell_type": "code",
   "execution_count": 27,
   "metadata": {},
   "outputs": [
    {
     "data": {
      "text/plain": [
       "\"UnitNumber(0.0)\""
      ]
     },
     "execution_count": 27,
     "metadata": {},
     "output_type": "execute_result"
    }
   ],
   "source": [
    "JuMP.aff_str(JuMP.REPLMode, quad.aff)"
   ]
  },
  {
   "cell_type": "code",
   "execution_count": 38,
   "metadata": {},
   "outputs": [
    {
     "name": "stdout",
     "output_type": "stream",
     "text": [
      "UnitNumber(2.0) x"
     ]
    }
   ],
   "source": [
    "show(aff)"
   ]
  },
  {
   "cell_type": "code",
   "execution_count": 39,
   "metadata": {},
   "outputs": [
    {
     "name": "stdout",
     "output_type": "stream",
     "text": [
      "UnitNumber(2.0) x² + UnitNumber(0.0)"
     ]
    }
   ],
   "source": [
    "show(quad)"
   ]
  },
  {
   "cell_type": "code",
   "execution_count": null,
   "metadata": {
    "collapsed": true
   },
   "outputs": [],
   "source": []
  }
 ],
 "metadata": {
  "kernelspec": {
   "display_name": "Julia 0.6.2",
   "language": "julia",
   "name": "julia-0.6"
  },
  "language_info": {
   "file_extension": ".jl",
   "mimetype": "application/julia",
   "name": "julia",
   "version": "0.6.3"
  }
 },
 "nbformat": 4,
 "nbformat_minor": 2
}
